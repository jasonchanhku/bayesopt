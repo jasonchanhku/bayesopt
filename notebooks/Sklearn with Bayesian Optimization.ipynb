{
 "cells": [
  {
   "cell_type": "markdown",
   "metadata": {},
   "source": [
    "# Libraries Used"
   ]
  },
  {
   "cell_type": "code",
   "execution_count": 52,
   "metadata": {
    "collapsed": false
   },
   "outputs": [],
   "source": [
    "from __future__ import print_function\n",
    "from __future__ import division\n",
    "\n",
    "import warnings\n",
    "warnings.filterwarnings('ignore')\n",
    "\n",
    "from sklearn.datasets import make_classification\n",
    "from sklearn.model_selection import cross_val_score\n",
    "from sklearn.ensemble import RandomForestClassifier as RFC\n",
    "from sklearn.svm import SVC\n",
    "\n",
    "from bayes_opt import BayesianOptimization"
   ]
  },
  {
   "cell_type": "markdown",
   "metadata": {},
   "source": [
    "# Load Dummy Data\n",
    "* 1,000 rows and 45 features"
   ]
  },
  {
   "cell_type": "code",
   "execution_count": 53,
   "metadata": {
    "collapsed": false
   },
   "outputs": [],
   "source": [
    "data, target = make_classification(\n",
    "\n",
    "    n_samples = 1000,\n",
    "    n_features = 45,\n",
    "    n_informative = 12,\n",
    "    n_redundant = 7\n",
    ")"
   ]
  },
  {
   "cell_type": "code",
   "execution_count": 54,
   "metadata": {
    "collapsed": false
   },
   "outputs": [
    {
     "data": {
      "text/plain": [
       "(1000, 45)"
      ]
     },
     "execution_count": 54,
     "metadata": {},
     "output_type": "execute_result"
    }
   ],
   "source": [
    "data.shape"
   ]
  },
  {
   "cell_type": "markdown",
   "metadata": {},
   "source": [
    "# Functions to Optimize\n",
    "\n",
    "Optimize f1 value. Best at 1 and worst at 0"
   ]
  },
  {
   "cell_type": "code",
   "execution_count": 55,
   "metadata": {
    "collapsed": true
   },
   "outputs": [],
   "source": [
    "# Support Vector Classification \n",
    "def svccv(C, gamma):\n",
    "    val = cross_val_score(\n",
    "        SVC(C=C, gamma=gamma, random_state=2),\n",
    "        data,\n",
    "        target,\n",
    "        scoring = 'f1',\n",
    "        cv = 2\n",
    "    ).mean()\n",
    "    \n",
    "    return val"
   ]
  },
  {
   "cell_type": "code",
   "execution_count": 56,
   "metadata": {
    "collapsed": true
   },
   "outputs": [],
   "source": [
    "# Random Forest Classifier\n",
    "def rfccv(n_estimators, min_samples_split, max_features):\n",
    "    val = cross_val_score(\n",
    "        RFC(n_estimators=int(n_estimators),\n",
    "            min_samples_split=int(min_samples_split),\n",
    "            max_features=min(max_features, 0.999),\n",
    "            random_state=2\n",
    "        ),\n",
    "        data, target, scoring= 'f1', cv=2\n",
    "    ).mean()\n",
    "    return val"
   ]
  },
  {
   "cell_type": "code",
   "execution_count": 57,
   "metadata": {
    "collapsed": false
   },
   "outputs": [],
   "source": [
    "svcBO = BayesianOptimization(\n",
    "    svccv,\n",
    "    {\n",
    "      'C': (0.001, 100),\n",
    "      'gamma': (0.0001, 0.1)\n",
    "    }\n",
    ")\n",
    "\n",
    "svcBO.explore({'C': [0.001, 0.01, 0.1], 'gamma': [0.001, 0.01, 0.1]})\n"
   ]
  },
  {
   "cell_type": "code",
   "execution_count": 58,
   "metadata": {
    "collapsed": false
   },
   "outputs": [
    {
     "name": "stdout",
     "output_type": "stream",
     "text": [
      "\u001b[31mInitialization\u001b[0m\n",
      "\u001b[94m-----------------------------------------------------\u001b[0m\n",
      " Step |   Time |      Value |         C |     gamma | \n",
      "    1 | 00m00s | \u001b[35m   0.00000\u001b[0m | \u001b[32m   0.0010\u001b[0m | \u001b[32m   0.0010\u001b[0m | \n",
      "    2 | 00m00s |    0.00000 |    0.0100 |    0.0100 | \n",
      "    3 | 00m00s |    0.00000 |    0.1000 |    0.1000 | \n",
      "    4 | 00m00s | \u001b[35m   0.93168\u001b[0m | \u001b[32m  74.2354\u001b[0m | \u001b[32m   0.0253\u001b[0m | \n",
      "    5 | 00m00s |    0.93063 |    6.4498 |    0.0290 | \n",
      "    6 | 00m00s | \u001b[35m   0.93400\u001b[0m | \u001b[32m  94.3772\u001b[0m | \u001b[32m   0.0065\u001b[0m | \n",
      "    7 | 00m00s |    0.85812 |   66.9093 |    0.0630 | \n",
      "    8 | 00m00s |    0.91434 |    6.1121 |    0.0509 | \n",
      "\u001b[31mBayesian Optimization\u001b[0m\n",
      "\u001b[94m-----------------------------------------------------\u001b[0m\n",
      " Step |   Time |      Value |         C |     gamma | \n",
      "    9 | 00m05s |    0.83009 |   47.9436 |    0.0001 | \n",
      "   10 | 00m04s |    0.82680 |   31.2205 |    0.0001 | \n",
      "   11 | 00m05s |    0.24988 |   84.9184 |    0.1000 | \n",
      "   12 | 00m07s |    0.81876 |   20.5179 |    0.0001 | \n",
      "   13 | 00m05s |    0.24988 |  100.0000 |    0.1000 | \n",
      "   14 | 00m05s |    0.24988 |   56.8444 |    0.1000 | \n",
      "   15 | 00m05s |    0.24988 |   39.8090 |    0.1000 | \n",
      "   16 | 00m05s |    0.27914 |   25.9722 |    0.0982 | \n",
      "   17 | 00m04s |    0.81473 |   14.4761 |    0.0001 | \n",
      "   18 | 00m06s |    0.24988 |   70.6895 |    0.1000 | \n"
     ]
    }
   ],
   "source": [
    "svcBO.maximize(n_iter=10)"
   ]
  },
  {
   "cell_type": "code",
   "execution_count": 59,
   "metadata": {
    "collapsed": false
   },
   "outputs": [
    {
     "name": "stdout",
     "output_type": "stream",
     "text": [
      "max params is:  {'C': 94.377150800433597, 'gamma': 0.0064587736691996125}\n",
      "max params gives max val of:  0.934\n"
     ]
    }
   ],
   "source": [
    "print('max params is: ', svcBO.res['max']['max_params'])\n",
    "print('max params gives max val of: ', svcBO.res['max']['max_val'])"
   ]
  },
  {
   "cell_type": "code",
   "execution_count": 60,
   "metadata": {
    "collapsed": true
   },
   "outputs": [],
   "source": [
    "rfcBO = BayesianOptimization(\n",
    "        rfccv,\n",
    "        {'n_estimators': (10, 250),\n",
    "        'min_samples_split': (2, 25),\n",
    "        'max_features': (0.1, 0.999)}\n",
    "    )"
   ]
  },
  {
   "cell_type": "code",
   "execution_count": 61,
   "metadata": {
    "collapsed": false
   },
   "outputs": [
    {
     "name": "stdout",
     "output_type": "stream",
     "text": [
      "\u001b[31mInitialization\u001b[0m\n",
      "\u001b[94m-------------------------------------------------------------------------------------\u001b[0m\n",
      " Step |   Time |      Value |   max_features |   min_samples_split |   n_estimators | \n",
      "    1 | 00m00s | \u001b[35m   0.85312\u001b[0m | \u001b[32m        0.1079\u001b[0m | \u001b[32m            17.0486\u001b[0m | \u001b[32m       80.3507\u001b[0m | \n",
      "    2 | 00m00s |    0.84824 |         0.7149 |             19.9874 |        41.1463 | \n",
      "    3 | 00m01s | \u001b[35m   0.86268\u001b[0m | \u001b[32m        0.5547\u001b[0m | \u001b[32m             9.7181\u001b[0m | \u001b[32m       75.5495\u001b[0m | \n",
      "    4 | 00m03s |    0.86264 |         0.8445 |              5.0469 |       171.9895 | \n",
      "    5 | 00m00s | \u001b[35m   0.86306\u001b[0m | \u001b[32m        0.1554\u001b[0m | \u001b[32m            23.2333\u001b[0m | \u001b[32m      123.8864\u001b[0m | \n",
      "\u001b[31mBayesian Optimization\u001b[0m\n",
      "\u001b[94m-------------------------------------------------------------------------------------\u001b[0m\n",
      " Step |   Time |      Value |   max_features |   min_samples_split |   n_estimators | \n",
      "    6 | 00m11s |    0.84309 |         0.8559 |             25.0000 |       250.0000 | \n",
      "    7 | 00m06s |    0.80693 |         0.1963 |              2.0589 |        10.3012 | \n",
      "    8 | 00m11s | \u001b[35m   0.86351\u001b[0m | \u001b[32m        0.8451\u001b[0m | \u001b[32m             2.1397\u001b[0m | \u001b[32m      249.9091\u001b[0m | \n",
      "    9 | 00m08s |    0.86151 |         0.8487 |              2.0770 |       124.8847 | \n",
      "   10 | 00m10s |    0.84396 |         0.9967 |             24.8542 |       203.3848 | \n",
      "   11 | 00m06s |    0.86127 |         0.1400 |              2.0100 |        52.1239 | \n",
      "   12 | 00m13s |    0.84490 |         0.9990 |             24.8776 |       157.9457 | \n",
      "   13 | 00m12s | \u001b[35m   0.86796\u001b[0m | \u001b[32m        0.8846\u001b[0m | \u001b[32m             2.0090\u001b[0m | \u001b[32m      217.7121\u001b[0m | \n",
      "   14 | 00m09s | \u001b[35m   0.87670\u001b[0m | \u001b[32m        0.1006\u001b[0m | \u001b[32m             2.1274\u001b[0m | \u001b[32m      194.2155\u001b[0m | \n",
      "   15 | 00m10s | \u001b[35m   0.87951\u001b[0m | \u001b[32m        0.2011\u001b[0m | \u001b[32m             2.0115\u001b[0m | \u001b[32m       93.2279\u001b[0m | \n"
     ]
    }
   ],
   "source": [
    "rfcBO.maximize(n_iter=10)"
   ]
  },
  {
   "cell_type": "code",
   "execution_count": 62,
   "metadata": {
    "collapsed": false
   },
   "outputs": [
    {
     "name": "stdout",
     "output_type": "stream",
     "text": [
      "max params is:  {'n_estimators': 93.227932742371948, 'min_samples_split': 2.011549360233869, 'max_features': 0.20106320259453903}\n",
      "max params gives max val of:  0.87950871834\n"
     ]
    }
   ],
   "source": [
    "print('max params is: ', rfcBO.res['max']['max_params'])\n",
    "print('max params gives max val of: ', rfcBO.res['max']['max_val'])"
   ]
  },
  {
   "cell_type": "code",
   "execution_count": null,
   "metadata": {
    "collapsed": true
   },
   "outputs": [],
   "source": []
  }
 ],
 "metadata": {
  "kernelspec": {
   "display_name": "Python 3",
   "language": "python",
   "name": "python3"
  },
  "language_info": {
   "codemirror_mode": {
    "name": "ipython",
    "version": 3
   },
   "file_extension": ".py",
   "mimetype": "text/x-python",
   "name": "python",
   "nbconvert_exporter": "python",
   "pygments_lexer": "ipython3",
   "version": "3.6.0"
  }
 },
 "nbformat": 4,
 "nbformat_minor": 2
}
