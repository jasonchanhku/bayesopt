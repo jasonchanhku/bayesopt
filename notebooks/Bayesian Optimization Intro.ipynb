{
 "cells": [
  {
   "cell_type": "markdown",
   "metadata": {},
   "source": [
    "# Libraries Used"
   ]
  },
  {
   "cell_type": "code",
   "execution_count": 41,
   "metadata": {
    "collapsed": true
   },
   "outputs": [],
   "source": [
    "from bayes_opt import BayesianOptimization\n",
    "import numpy as np\n",
    "\n",
    "import matplotlib.pyplot as plt\n",
    "from matplotlib import gridspec\n",
    "%matplotlib inline"
   ]
  },
  {
   "cell_type": "markdown",
   "metadata": {},
   "source": [
    "# Target Function"
   ]
  },
  {
   "cell_type": "code",
   "execution_count": 42,
   "metadata": {
    "collapsed": true
   },
   "outputs": [],
   "source": [
    "def target(x):\n",
    "    return np.exp(-(x - 2)**2) + np.exp(-(x - 6)**2/10) + 1/ (x**2 + 1)"
   ]
  },
  {
   "cell_type": "code",
   "execution_count": 43,
   "metadata": {
    "collapsed": false
   },
   "outputs": [],
   "source": [
    "KAPPA = 5\n",
    "x = np.linspace(-2, 10, 1000)\n",
    "y = target(x)"
   ]
  },
  {
   "cell_type": "code",
   "execution_count": 44,
   "metadata": {
    "collapsed": false
   },
   "outputs": [
    {
     "data": {
      "text/plain": [
       "[<matplotlib.lines.Line2D at 0x104c637f0>]"
      ]
     },
     "execution_count": 44,
     "metadata": {},
     "output_type": "execute_result"
    },
    {
     "data": {
      "image/png": "[encoded data removed]",
      "text/plain": [
       "<matplotlib.figure.Figure at 0x108198128>"
      ]
     },
     "metadata": {},
     "output_type": "display_data"
    }
   ],
   "source": [
    "plt.plot(x,y)"
   ]
  },
  {
   "cell_type": "markdown",
   "metadata": {},
   "source": [
    "# Bayesian Optimization Requirements\n",
    "* create an object\n",
    "* 2 guesses are needed minimum, either random or user defined"
   ]
  },
  {
   "cell_type": "code",
   "execution_count": 49,
   "metadata": {
    "collapsed": true
   },
   "outputs": [],
   "source": [
    "# second argument must be dict, key as param to optimize and tuple as boundaries\n",
    "bo = BayesianOptimization(target, {'x': (-2, 10)})\n"
   ]
  },
  {
   "cell_type": "code",
   "execution_count": 50,
   "metadata": {
    "collapsed": false
   },
   "outputs": [
    {
     "name": "stdout",
     "output_type": "stream",
     "text": [
      "\u001b[31mInitialization\u001b[0m\n",
      "\u001b[94m-----------------------------------------\u001b[0m\n",
      " Step |   Time |      Value |         x | \n",
      "    1 | 00m00s | \u001b[35m   1.21515\u001b[0m | \u001b[32m   2.4930\u001b[0m | \n",
      "    2 | 00m00s |    1.03100 |    1.1887 | \n",
      "\u001b[31mBayesian Optimization\u001b[0m\n",
      "\u001b[94m-----------------------------------------\u001b[0m\n",
      " Step |   Time |      Value |         x | \n",
      "    3 | 00m00s |    0.21180 |   10.0000 | \n",
      "    4 | 00m00s |    0.20166 |   -2.0000 | \n",
      "    5 | 00m01s |    1.02645 |    6.0442 | \n",
      "    6 | 00m02s |    0.77418 |    4.1464 | \n",
      "    7 | 00m00s |    0.71235 |    7.9015 | \n",
      "    8 | 00m00s |    0.93033 |   -0.3196 | \n",
      "    9 | 00m01s |    0.94769 |    6.8710 | \n",
      "   10 | 00m01s | \u001b[35m   1.40116\u001b[0m | \u001b[32m   1.9716\u001b[0m | \n",
      "   11 | 00m01s |    0.96122 |    5.1128 | \n",
      "   12 | 00m01s |    0.43110 |    8.9503 | \n"
     ]
    }
   ],
   "source": [
    "bo.maximize(init_points=2, n_iter=10, acq='ucb', kappa=5)\n"
   ]
  },
  {
   "cell_type": "markdown",
   "metadata": {},
   "source": [
    "## Kappa Statistic, K\n",
    "\n",
    "tunable parameter kappa of GP Upper Confidence Bound, to balance exploitation\n",
    "against exploration, increasing kappa will make the optimized hyperparameters\n",
    "pursuing exploration."
   ]
  }
 ],
 "metadata": {
  "kernelspec": {
   "display_name": "Python 3",
   "language": "python",
   "name": "python3"
  },
  "language_info": {
   "codemirror_mode": {
    "name": "ipython",
    "version": 3
   },
   "file_extension": ".py",
   "mimetype": "text/x-python",
   "name": "python",
   "nbconvert_exporter": "python",
   "pygments_lexer": "ipython3",
   "version": "3.6.0"
  }
 },
 "nbformat": 4,
 "nbformat_minor": 2
}
